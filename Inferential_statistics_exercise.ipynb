{
 "cells": [
  {
   "cell_type": "markdown",
   "metadata": {},
   "source": [
    "# What is the True Normal Human Body Temperature? \n",
    "\n",
    "#### Background\n",
    "\n",
    "The mean normal body temperature was held to be 37$^{\\circ}$C or 98.6$^{\\circ}$F for more than 120 years since it was first conceptualized and reported by Carl Wunderlich in a famous 1868 book. But, is this value statistically correct?"
   ]
  },
  {
   "cell_type": "markdown",
   "metadata": {},
   "source": [
    "<h3>Exercises</h3>\n",
    "\n",
    "<p>In this exercise, you will analyze a dataset of human body temperatures and employ the concepts of hypothesis testing, confidence intervals, and statistical significance.</p>\n",
    "\n",
    "<p>Answer the following questions <b>in this notebook below and submit to your Github account</b>.</p> \n",
    "\n",
    "<ol>\n",
    "<li>  Is the distribution of body temperatures normal? \n",
    "    <ul>\n",
    "    <li> Although this is not a requirement for CLT to hold (read CLT carefully), it gives us some peace of mind that the population may also be normally distributed if we assume that this sample is representative of the population.\n",
    "    </ul>\n",
    "<li>  Is the sample size large? Are the observations independent?\n",
    "    <ul>\n",
    "    <li> Remember that this is a condition for the CLT, and hence the statistical tests we are using, to apply.\n",
    "    </ul>\n",
    "<li>  Is the true population mean really 98.6 degrees F?\n",
    "    <ul>\n",
    "    <li> Would you use a one-sample or two-sample test? Why?\n",
    "    <li> In this situation, is it appropriate to use the $t$ or $z$ statistic? \n",
    "    <li> Now try using the other test. How is the result be different? Why?",
    "    </ul>\n",
    "<li>  Draw a small sample of size 10 from the data and repeat both tests. \n",
    "    <ul>\n",
    "    <li> Which one is the correct one to use? \n",
    "    <li> What do you notice? What does this tell you about the difference in application of the $t$ and $z$ statistic?\n",
    "    </ul>\n",
    "<li>  At what temperature should we consider someone's temperature to be \"abnormal\"?\n",
    "    <ul>\n",
    "    <li> Start by computing the margin of error and confidence interval.\n",
    "    </ul>\n",
    "<li>  Is there a significant difference between males and females in normal temperature?\n",
    "    <ul>\n",
    "    <li> What test did you use and why?\n",
    "    <li> Write a story with your conclusion in the context of the original problem.\n",
    "    </ul>\n",
    "</ol>\n",
    "\n",
    "You can include written notes in notebook cells using Markdown: \n",
    "   - In the control panel at the top, choose Cell > Cell Type > Markdown\n",
    "   - Markdown syntax: http://nestacms.com/docs/creating-content/markdown-cheat-sheet\n",
    "\n",
    "#### Resources\n",
    "\n",
    "+ Information and data sources: http://www.amstat.org/publications/jse/datasets/normtemp.txt, http://www.amstat.org/publications/jse/jse_data_archive.htm\n",
    "+ Markdown syntax: http://nestacms.com/docs/creating-content/markdown-cheat-sheet\n",
    "\n",
    "****"
   ]
  },
  {
   "cell_type": "markdown",
   "metadata": {},
   "source": [
    "To being, I import the necessary packages and import the data using pandas from the local CSV."
   ]
  },
  {
   "cell_type": "code",
   "execution_count": 2,
   "metadata": {
    "collapsed": true
   },
   "outputs": [],
   "source": [
    "import pandas\n",
    "import numpy as np\n",
    "import matplotlib.pyplot as plt\n",
    "\n",
    "df = pandas.read_csv('data/human_body_temperature.csv')\n",
    "data= np.array(df.temperature)"
   ]
  },
  {
   "cell_type": "markdown",
   "metadata": {},
   "source": [
    "## 1\n",
    "First, we check to see if the distribution of the temperature data is normally distributed. To do this, I calculate the mean and standard deviation of the sample and use the numpy module random to generate a normally distributed sample to plot. then I plot both the generated and observed samples on the same graph to compare.\n",
    "\n",
    "As you can see below, **the sample is indeed normally distributed** and it follows the theoretical normal distribution closely."
   ]
  },
  {
   "cell_type": "code",
   "execution_count": 3,
   "metadata": {},
   "outputs": [
    {
     "data": {
      "image/png": "[encoded data removed]",
      "text/plain": [
       "<matplotlib.figure.Figure at 0x4ce2828>"
      ]
     },
     "metadata": {},
     "output_type": "display_data"
    }
   ],
   "source": [
    "mean = np.mean(df.temperature)\n",
    "std = np.std(df.temperature)\n",
    "theory = np.random.normal(mean,std,1000000)\n",
    "_ = plt.hist(df.temperature,normed=True,histtype='step')\n",
    "_ = plt.hist(theory,normed=True,histtype='step')\n",
    "plt.show()"
   ]
  },
  {
   "cell_type": "markdown",
   "metadata": {},
   "source": [
    "## 2\n",
    "Next, we check the sample size and whether or not these observations are independent of each other. Our sample size is printed below and shows us that we have 130 observations, **a somewhat large sample given the era the experiment was conducted.\n",
    "\n",
    "**The sample observations are indeed independant as each observation is a unquie participant and none are repeated.** Had each participant been measured repeatedly, it would then have been a dependant sample."
   ]
  },
  {
   "cell_type": "code",
   "execution_count": 4,
   "metadata": {},
   "outputs": [
    {
     "name": "stdout",
     "output_type": "stream",
     "text": [
      "RangeIndex(start=0, stop=130, step=1)\n"
     ]
    }
   ],
   "source": [
    "print(df.index)"
   ]
  },
  {
   "cell_type": "markdown",
   "metadata": {},
   "source": [
    "## 3\n",
    "To determine the true population mean, I generated 10,000 permutated samples and calculated the mean for each to drop into the array 'mean_reps'. **This will be a 1 sample test as I am comparing a single sample of observations to the mean of the population of means that have been permutated** to determine if it is significantly different. **I chose to conduct a Z-test given that the sample was on the larger side**, however since it is not too large a T-test would likely be fine as well.\n",
    "\n",
    "Using a significance criteria of p < .05, our p value both tests is not significant no matter how many times you run it (p value will change every time because the permutation sample is different every time it is run). This means that we fail to reject the null hypothesis and thus **the observed mean is likely the true population mean**. Additionally, **the T-test gives us almost the extract same result** up to the 4th decimal place as I suspected given the sample size."
   ]
  },
  {
   "cell_type": "code",
   "execution_count": 5,
   "metadata": {},
   "outputs": [
    {
     "name": "stdout",
     "output_type": "stream",
     "text": [
      "Z-test results:  p= 0.953610970982\n",
      "Ttest_1sampResult(statistic=0.058172819452846067, pvalue=0.95370098637476963)\n"
     ]
    }
   ],
   "source": [
    "import scipy.stats as stat\n",
    "from statsmodels.stats.weightstats import ztest\n",
    "\n",
    "mean_reps = np.empty(10000)\n",
    "for i in range(10000):\n",
    "    perm = np.random.choice(df.temperature)\n",
    "    mean_reps[i] = np.mean(perm)\n",
    "\n",
    "ztest1 = ztest(x1=data,value=np.mean(mean_reps))\n",
    "print('Z-test results: ','p=',ztest1[1])\n",
    "\n",
    "ttest1 = stat.ttest_1samp(data,np.mean(mean_reps))\n",
    "print(ttest1)"
   ]
  },
  {
   "cell_type": "markdown",
   "metadata": {},
   "source": [
    "## 4\n",
    "Using only 10 observations, **the T-test would be the appropriate significance test to use**. Running both we can see below that we do get somewhat different p values, however we still come to the same conclusion that the observed mean is not significantly different from the population mean. **This difference illustrates the difference between the Z and T test on samples of different sizes."
   ]
  },
  {
   "cell_type": "code",
   "execution_count": 6,
   "metadata": {},
   "outputs": [
    {
     "name": "stdout",
     "output_type": "stream",
     "text": [
      "Ttest_1sampResult(statistic=1.8801865090569478, pvalue=0.092778688614757313)\n",
      "Z-test results:  statistic = 1.88018650906 p= 0.0600826635939\n"
     ]
    }
   ],
   "source": [
    "from statsmodels.stats.weightstats import ztest\n",
    "small = data[:10]\n",
    "\n",
    "test = stat.ttest_1samp(small,np.mean(mean_reps))\n",
    "print(test)\n",
    "\n",
    "ztest2 = ztest(x1=small,value=np.mean(mean_reps))\n",
    "print('Z-test results: ','statistic =',ztest2[0],'p=',ztest2[1])"
   ]
  },
  {
   "cell_type": "markdown",
   "metadata": {},
   "source": [
    "## 5\n",
    "Below, I define the confidence interval for abnormal temperatures using the observed data to show the upper and lower limit of 95% of the data as well as the margin of error based on the CLT."
   ]
  },
  {
   "cell_type": "code",
   "execution_count": 7,
   "metadata": {},
   "outputs": [
    {
     "name": "stdout",
     "output_type": "stream",
     "text": [
      "98.24923076923078 F +/- 1.4607155578100754 <--margin of error\n",
      "Abnormal would be anything below 96.7885152114207 or above 99.70994632704085\n"
     ]
    }
   ],
   "source": [
    "confidence = std*2\n",
    "print(mean,'F +/-',confidence,'<--margin of error')\n",
    "print('Abnormal would be anything below',mean-confidence,'or above',mean+confidence)"
   ]
  },
  {
   "cell_type": "markdown",
   "metadata": {},
   "source": [
    "## 6\n",
    "When the sample is split between mean and women, we get 2 even smaller samples whose size is more appropriate for a 2 sample T-test. The results of this test show us that there is indeed a significant difference in the body temperature between men and women given our p value of .0239"
   ]
  },
  {
   "cell_type": "code",
   "execution_count": 8,
   "metadata": {},
   "outputs": [
    {
     "name": "stdout",
     "output_type": "stream",
     "text": [
      "Ttest_indResult(statistic=-2.2854345381656103, pvalue=0.023931883122395609)\n",
      "98.1046153846 \n",
      " 98.3938461538\n"
     ]
    }
   ],
   "source": [
    "from statsmodels.stats.weightstats import ztest\n",
    "men = df[df.gender == 'M']\n",
    "fem = df[df.gender == 'F']\n",
    "menA= np.array(men.temperature)\n",
    "femA = np.array(fem.temperature)\n",
    "\n",
    "ttest3 = stat.ttest_ind(menA,femA)\n",
    "print(ttest3)\n",
    "print(np.mean(menA),'\\n',np.mean(femA))"
   ]
  },
  {
   "cell_type": "markdown",
   "metadata": {},
   "source": [
    "While the accepted value of 98.6 may not have been disputed in this data as demonstrated by the Z-test in no.3, the difference between men and women is in fact significant. This suggests that while 98.6 may be an accurate general population value, tests for men and women respectively may produced different results. If we had taken 2 large sample of each gender and tested them seperately, I suspect we may find means that are significantly different from the accepted 98.6 value."
   ]
  }
 ],
 "metadata": {
  "kernelspec": {
   "display_name": "Python 3",
   "language": "python",
   "name": "python3"
  },
  "language_info": {
   "codemirror_mode": {
    "name": "ipython",
    "version": 3
   },
   "file_extension": ".py",
   "mimetype": "text/x-python",
   "name": "python",
   "nbconvert_exporter": "python",
   "pygments_lexer": "ipython3",
   "version": "3.6.1"
  }
 },
 "nbformat": 4,
 "nbformat_minor": 1
}
